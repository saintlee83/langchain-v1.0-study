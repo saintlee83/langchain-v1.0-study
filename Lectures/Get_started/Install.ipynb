{
 "cells": [
  {
   "cell_type": "markdown",
   "id": "2dd5df3b",
   "metadata": {},
   "source": []
  },
  {
   "cell_type": "markdown",
   "id": "61e8fb87",
   "metadata": {},
   "source": []
  }
 ],
 "metadata": {
  "language_info": {
   "name": "python"
  }
 },
 "nbformat": 4,
 "nbformat_minor": 5
}
